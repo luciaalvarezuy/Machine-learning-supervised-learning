{
 "cells": [
  {
   "cell_type": "markdown",
   "id": "459d4c21",
   "metadata": {},
   "source": [
    "Regression models.\n",
    "\n",
    "Description of the dataframe: https://www.kaggle.com/code/adveros/flight-delay-eda-exploratory-data-analysis"
   ]
  },
  {
   "cell_type": "code",
   "execution_count": 100,
   "id": "cccdee4d",
   "metadata": {},
   "outputs": [],
   "source": [
    "import pandas as pd\n",
    "import matplotlib.pyplot as plt \n",
    "import seaborn as sns\n",
    "from statsmodels.stats.outliers_influence import variance_inflation_factor\n",
    "from sklearn.preprocessing import StandardScaler\n",
    "import scipy.stats as stats\n",
    "import pingouin as pg\n",
    "from sklearn import metrics\n",
    "import numpy as np \n",
    "%matplotlib inline\n",
    "from sklearn.linear_model import LinearRegression\n",
    "from sklearn.preprocessing import PolynomialFeatures\n",
    "from sklearn.model_selection import train_test_split\n",
    "import warnings\n",
    "from pandas.core.common import SettingWithCopyWarning\n",
    "warnings.simplefilter(action=\"ignore\", category=SettingWithCopyWarning)"
   ]
  },
  {
   "cell_type": "code",
   "execution_count": 101,
   "id": "f2a5fe05",
   "metadata": {},
   "outputs": [],
   "source": [
    "# Load dataframe\n",
    "filename = 'C:/Users/Lucía Alvarez/OneDrive - psico.edu.uy/00 Barcelona activa/DelayedFlights.csv'\n",
    "df = pd.read_csv(filename, sep=\",\", encoding=\"utf8\") "
   ]
  },
  {
   "cell_type": "markdown",
   "id": "3590718b",
   "metadata": {},
   "source": [
    "# Description of the dataframe"
   ]
  },
  {
   "cell_type": "code",
   "execution_count": 102,
   "id": "96852b85",
   "metadata": {},
   "outputs": [
    {
     "data": {
      "text/html": [
       "<div>\n",
       "<style scoped>\n",
       "    .dataframe tbody tr th:only-of-type {\n",
       "        vertical-align: middle;\n",
       "    }\n",
       "\n",
       "    .dataframe tbody tr th {\n",
       "        vertical-align: top;\n",
       "    }\n",
       "\n",
       "    .dataframe thead th {\n",
       "        text-align: right;\n",
       "    }\n",
       "</style>\n",
       "<table border=\"1\" class=\"dataframe\">\n",
       "  <thead>\n",
       "    <tr style=\"text-align: right;\">\n",
       "      <th></th>\n",
       "      <th>Unnamed: 0</th>\n",
       "      <th>Year</th>\n",
       "      <th>Month</th>\n",
       "      <th>DayofMonth</th>\n",
       "      <th>DayOfWeek</th>\n",
       "      <th>DepTime</th>\n",
       "      <th>CRSDepTime</th>\n",
       "      <th>ArrTime</th>\n",
       "      <th>CRSArrTime</th>\n",
       "      <th>FlightNum</th>\n",
       "      <th>...</th>\n",
       "      <th>Distance</th>\n",
       "      <th>TaxiIn</th>\n",
       "      <th>TaxiOut</th>\n",
       "      <th>Cancelled</th>\n",
       "      <th>Diverted</th>\n",
       "      <th>CarrierDelay</th>\n",
       "      <th>WeatherDelay</th>\n",
       "      <th>NASDelay</th>\n",
       "      <th>SecurityDelay</th>\n",
       "      <th>LateAircraftDelay</th>\n",
       "    </tr>\n",
       "  </thead>\n",
       "  <tbody>\n",
       "    <tr>\n",
       "      <th>count</th>\n",
       "      <td>1.936758e+06</td>\n",
       "      <td>1936758.0</td>\n",
       "      <td>1.936758e+06</td>\n",
       "      <td>1.936758e+06</td>\n",
       "      <td>1.936758e+06</td>\n",
       "      <td>1.936758e+06</td>\n",
       "      <td>1.936758e+06</td>\n",
       "      <td>1.929648e+06</td>\n",
       "      <td>1.936758e+06</td>\n",
       "      <td>1.936758e+06</td>\n",
       "      <td>...</td>\n",
       "      <td>1.936758e+06</td>\n",
       "      <td>1.929648e+06</td>\n",
       "      <td>1.936303e+06</td>\n",
       "      <td>1.936758e+06</td>\n",
       "      <td>1.936758e+06</td>\n",
       "      <td>1.247488e+06</td>\n",
       "      <td>1.247488e+06</td>\n",
       "      <td>1.247488e+06</td>\n",
       "      <td>1.247488e+06</td>\n",
       "      <td>1.247488e+06</td>\n",
       "    </tr>\n",
       "    <tr>\n",
       "      <th>mean</th>\n",
       "      <td>3.341651e+06</td>\n",
       "      <td>2008.0</td>\n",
       "      <td>6.111106e+00</td>\n",
       "      <td>1.575347e+01</td>\n",
       "      <td>3.984827e+00</td>\n",
       "      <td>1.518534e+03</td>\n",
       "      <td>1.467473e+03</td>\n",
       "      <td>1.610141e+03</td>\n",
       "      <td>1.634225e+03</td>\n",
       "      <td>2.184263e+03</td>\n",
       "      <td>...</td>\n",
       "      <td>7.656862e+02</td>\n",
       "      <td>6.812975e+00</td>\n",
       "      <td>1.823220e+01</td>\n",
       "      <td>3.268348e-04</td>\n",
       "      <td>4.003598e-03</td>\n",
       "      <td>1.917940e+01</td>\n",
       "      <td>3.703571e+00</td>\n",
       "      <td>1.502164e+01</td>\n",
       "      <td>9.013714e-02</td>\n",
       "      <td>2.529647e+01</td>\n",
       "    </tr>\n",
       "    <tr>\n",
       "      <th>std</th>\n",
       "      <td>2.066065e+06</td>\n",
       "      <td>0.0</td>\n",
       "      <td>3.482546e+00</td>\n",
       "      <td>8.776272e+00</td>\n",
       "      <td>1.995966e+00</td>\n",
       "      <td>4.504853e+02</td>\n",
       "      <td>4.247668e+02</td>\n",
       "      <td>5.481781e+02</td>\n",
       "      <td>4.646347e+02</td>\n",
       "      <td>1.944702e+03</td>\n",
       "      <td>...</td>\n",
       "      <td>5.744797e+02</td>\n",
       "      <td>5.273595e+00</td>\n",
       "      <td>1.433853e+01</td>\n",
       "      <td>1.807562e-02</td>\n",
       "      <td>6.314722e-02</td>\n",
       "      <td>4.354621e+01</td>\n",
       "      <td>2.149290e+01</td>\n",
       "      <td>3.383305e+01</td>\n",
       "      <td>2.022714e+00</td>\n",
       "      <td>4.205486e+01</td>\n",
       "    </tr>\n",
       "    <tr>\n",
       "      <th>min</th>\n",
       "      <td>0.000000e+00</td>\n",
       "      <td>2008.0</td>\n",
       "      <td>1.000000e+00</td>\n",
       "      <td>1.000000e+00</td>\n",
       "      <td>1.000000e+00</td>\n",
       "      <td>1.000000e+00</td>\n",
       "      <td>0.000000e+00</td>\n",
       "      <td>1.000000e+00</td>\n",
       "      <td>0.000000e+00</td>\n",
       "      <td>1.000000e+00</td>\n",
       "      <td>...</td>\n",
       "      <td>1.100000e+01</td>\n",
       "      <td>0.000000e+00</td>\n",
       "      <td>0.000000e+00</td>\n",
       "      <td>0.000000e+00</td>\n",
       "      <td>0.000000e+00</td>\n",
       "      <td>0.000000e+00</td>\n",
       "      <td>0.000000e+00</td>\n",
       "      <td>0.000000e+00</td>\n",
       "      <td>0.000000e+00</td>\n",
       "      <td>0.000000e+00</td>\n",
       "    </tr>\n",
       "    <tr>\n",
       "      <th>25%</th>\n",
       "      <td>1.517452e+06</td>\n",
       "      <td>2008.0</td>\n",
       "      <td>3.000000e+00</td>\n",
       "      <td>8.000000e+00</td>\n",
       "      <td>2.000000e+00</td>\n",
       "      <td>1.203000e+03</td>\n",
       "      <td>1.135000e+03</td>\n",
       "      <td>1.316000e+03</td>\n",
       "      <td>1.325000e+03</td>\n",
       "      <td>6.100000e+02</td>\n",
       "      <td>...</td>\n",
       "      <td>3.380000e+02</td>\n",
       "      <td>4.000000e+00</td>\n",
       "      <td>1.000000e+01</td>\n",
       "      <td>0.000000e+00</td>\n",
       "      <td>0.000000e+00</td>\n",
       "      <td>0.000000e+00</td>\n",
       "      <td>0.000000e+00</td>\n",
       "      <td>0.000000e+00</td>\n",
       "      <td>0.000000e+00</td>\n",
       "      <td>0.000000e+00</td>\n",
       "    </tr>\n",
       "    <tr>\n",
       "      <th>50%</th>\n",
       "      <td>3.242558e+06</td>\n",
       "      <td>2008.0</td>\n",
       "      <td>6.000000e+00</td>\n",
       "      <td>1.600000e+01</td>\n",
       "      <td>4.000000e+00</td>\n",
       "      <td>1.545000e+03</td>\n",
       "      <td>1.510000e+03</td>\n",
       "      <td>1.715000e+03</td>\n",
       "      <td>1.705000e+03</td>\n",
       "      <td>1.543000e+03</td>\n",
       "      <td>...</td>\n",
       "      <td>6.060000e+02</td>\n",
       "      <td>6.000000e+00</td>\n",
       "      <td>1.400000e+01</td>\n",
       "      <td>0.000000e+00</td>\n",
       "      <td>0.000000e+00</td>\n",
       "      <td>2.000000e+00</td>\n",
       "      <td>0.000000e+00</td>\n",
       "      <td>2.000000e+00</td>\n",
       "      <td>0.000000e+00</td>\n",
       "      <td>8.000000e+00</td>\n",
       "    </tr>\n",
       "    <tr>\n",
       "      <th>75%</th>\n",
       "      <td>4.972467e+06</td>\n",
       "      <td>2008.0</td>\n",
       "      <td>9.000000e+00</td>\n",
       "      <td>2.300000e+01</td>\n",
       "      <td>6.000000e+00</td>\n",
       "      <td>1.900000e+03</td>\n",
       "      <td>1.815000e+03</td>\n",
       "      <td>2.030000e+03</td>\n",
       "      <td>2.014000e+03</td>\n",
       "      <td>3.422000e+03</td>\n",
       "      <td>...</td>\n",
       "      <td>9.980000e+02</td>\n",
       "      <td>8.000000e+00</td>\n",
       "      <td>2.100000e+01</td>\n",
       "      <td>0.000000e+00</td>\n",
       "      <td>0.000000e+00</td>\n",
       "      <td>2.100000e+01</td>\n",
       "      <td>0.000000e+00</td>\n",
       "      <td>1.500000e+01</td>\n",
       "      <td>0.000000e+00</td>\n",
       "      <td>3.300000e+01</td>\n",
       "    </tr>\n",
       "    <tr>\n",
       "      <th>max</th>\n",
       "      <td>7.009727e+06</td>\n",
       "      <td>2008.0</td>\n",
       "      <td>1.200000e+01</td>\n",
       "      <td>3.100000e+01</td>\n",
       "      <td>7.000000e+00</td>\n",
       "      <td>2.400000e+03</td>\n",
       "      <td>2.359000e+03</td>\n",
       "      <td>2.400000e+03</td>\n",
       "      <td>2.400000e+03</td>\n",
       "      <td>9.742000e+03</td>\n",
       "      <td>...</td>\n",
       "      <td>4.962000e+03</td>\n",
       "      <td>2.400000e+02</td>\n",
       "      <td>4.220000e+02</td>\n",
       "      <td>1.000000e+00</td>\n",
       "      <td>1.000000e+00</td>\n",
       "      <td>2.436000e+03</td>\n",
       "      <td>1.352000e+03</td>\n",
       "      <td>1.357000e+03</td>\n",
       "      <td>3.920000e+02</td>\n",
       "      <td>1.316000e+03</td>\n",
       "    </tr>\n",
       "  </tbody>\n",
       "</table>\n",
       "<p>8 rows × 25 columns</p>\n",
       "</div>"
      ],
      "text/plain": [
       "         Unnamed: 0       Year         Month    DayofMonth     DayOfWeek  \\\n",
       "count  1.936758e+06  1936758.0  1.936758e+06  1.936758e+06  1.936758e+06   \n",
       "mean   3.341651e+06     2008.0  6.111106e+00  1.575347e+01  3.984827e+00   \n",
       "std    2.066065e+06        0.0  3.482546e+00  8.776272e+00  1.995966e+00   \n",
       "min    0.000000e+00     2008.0  1.000000e+00  1.000000e+00  1.000000e+00   \n",
       "25%    1.517452e+06     2008.0  3.000000e+00  8.000000e+00  2.000000e+00   \n",
       "50%    3.242558e+06     2008.0  6.000000e+00  1.600000e+01  4.000000e+00   \n",
       "75%    4.972467e+06     2008.0  9.000000e+00  2.300000e+01  6.000000e+00   \n",
       "max    7.009727e+06     2008.0  1.200000e+01  3.100000e+01  7.000000e+00   \n",
       "\n",
       "            DepTime    CRSDepTime       ArrTime    CRSArrTime     FlightNum  \\\n",
       "count  1.936758e+06  1.936758e+06  1.929648e+06  1.936758e+06  1.936758e+06   \n",
       "mean   1.518534e+03  1.467473e+03  1.610141e+03  1.634225e+03  2.184263e+03   \n",
       "std    4.504853e+02  4.247668e+02  5.481781e+02  4.646347e+02  1.944702e+03   \n",
       "min    1.000000e+00  0.000000e+00  1.000000e+00  0.000000e+00  1.000000e+00   \n",
       "25%    1.203000e+03  1.135000e+03  1.316000e+03  1.325000e+03  6.100000e+02   \n",
       "50%    1.545000e+03  1.510000e+03  1.715000e+03  1.705000e+03  1.543000e+03   \n",
       "75%    1.900000e+03  1.815000e+03  2.030000e+03  2.014000e+03  3.422000e+03   \n",
       "max    2.400000e+03  2.359000e+03  2.400000e+03  2.400000e+03  9.742000e+03   \n",
       "\n",
       "       ...      Distance        TaxiIn       TaxiOut     Cancelled  \\\n",
       "count  ...  1.936758e+06  1.929648e+06  1.936303e+06  1.936758e+06   \n",
       "mean   ...  7.656862e+02  6.812975e+00  1.823220e+01  3.268348e-04   \n",
       "std    ...  5.744797e+02  5.273595e+00  1.433853e+01  1.807562e-02   \n",
       "min    ...  1.100000e+01  0.000000e+00  0.000000e+00  0.000000e+00   \n",
       "25%    ...  3.380000e+02  4.000000e+00  1.000000e+01  0.000000e+00   \n",
       "50%    ...  6.060000e+02  6.000000e+00  1.400000e+01  0.000000e+00   \n",
       "75%    ...  9.980000e+02  8.000000e+00  2.100000e+01  0.000000e+00   \n",
       "max    ...  4.962000e+03  2.400000e+02  4.220000e+02  1.000000e+00   \n",
       "\n",
       "           Diverted  CarrierDelay  WeatherDelay      NASDelay  SecurityDelay  \\\n",
       "count  1.936758e+06  1.247488e+06  1.247488e+06  1.247488e+06   1.247488e+06   \n",
       "mean   4.003598e-03  1.917940e+01  3.703571e+00  1.502164e+01   9.013714e-02   \n",
       "std    6.314722e-02  4.354621e+01  2.149290e+01  3.383305e+01   2.022714e+00   \n",
       "min    0.000000e+00  0.000000e+00  0.000000e+00  0.000000e+00   0.000000e+00   \n",
       "25%    0.000000e+00  0.000000e+00  0.000000e+00  0.000000e+00   0.000000e+00   \n",
       "50%    0.000000e+00  2.000000e+00  0.000000e+00  2.000000e+00   0.000000e+00   \n",
       "75%    0.000000e+00  2.100000e+01  0.000000e+00  1.500000e+01   0.000000e+00   \n",
       "max    1.000000e+00  2.436000e+03  1.352000e+03  1.357000e+03   3.920000e+02   \n",
       "\n",
       "       LateAircraftDelay  \n",
       "count       1.247488e+06  \n",
       "mean        2.529647e+01  \n",
       "std         4.205486e+01  \n",
       "min         0.000000e+00  \n",
       "25%         0.000000e+00  \n",
       "50%         8.000000e+00  \n",
       "75%         3.300000e+01  \n",
       "max         1.316000e+03  \n",
       "\n",
       "[8 rows x 25 columns]"
      ]
     },
     "execution_count": 102,
     "metadata": {},
     "output_type": "execute_result"
    }
   ],
   "source": [
    "# Descriptive statistics of the dataframe\n",
    "df.describe()"
   ]
  },
  {
   "cell_type": "markdown",
   "id": "0d9cd0b0",
   "metadata": {},
   "source": [
    "Next, three variables were selected that could predict ArrDelay. For this, the variables were stored in a new dataframe in order to evaluate their correlations."
   ]
  },
  {
   "cell_type": "code",
   "execution_count": 103,
   "id": "a0163531",
   "metadata": {},
   "outputs": [
    {
     "data": {
      "text/html": [
       "<div>\n",
       "<style scoped>\n",
       "    .dataframe tbody tr th:only-of-type {\n",
       "        vertical-align: middle;\n",
       "    }\n",
       "\n",
       "    .dataframe tbody tr th {\n",
       "        vertical-align: top;\n",
       "    }\n",
       "\n",
       "    .dataframe thead th {\n",
       "        text-align: right;\n",
       "    }\n",
       "</style>\n",
       "<table border=\"1\" class=\"dataframe\">\n",
       "  <thead>\n",
       "    <tr style=\"text-align: right;\">\n",
       "      <th></th>\n",
       "      <th>ArrDelay</th>\n",
       "      <th>CarrierDelay</th>\n",
       "      <th>WeatherDelay</th>\n",
       "      <th>LateAircraftDelay</th>\n",
       "    </tr>\n",
       "  </thead>\n",
       "  <tbody>\n",
       "    <tr>\n",
       "      <th>0</th>\n",
       "      <td>-14.0</td>\n",
       "      <td>NaN</td>\n",
       "      <td>NaN</td>\n",
       "      <td>NaN</td>\n",
       "    </tr>\n",
       "    <tr>\n",
       "      <th>1</th>\n",
       "      <td>2.0</td>\n",
       "      <td>NaN</td>\n",
       "      <td>NaN</td>\n",
       "      <td>NaN</td>\n",
       "    </tr>\n",
       "    <tr>\n",
       "      <th>2</th>\n",
       "      <td>14.0</td>\n",
       "      <td>NaN</td>\n",
       "      <td>NaN</td>\n",
       "      <td>NaN</td>\n",
       "    </tr>\n",
       "    <tr>\n",
       "      <th>3</th>\n",
       "      <td>34.0</td>\n",
       "      <td>2.0</td>\n",
       "      <td>0.0</td>\n",
       "      <td>32.0</td>\n",
       "    </tr>\n",
       "    <tr>\n",
       "      <th>4</th>\n",
       "      <td>11.0</td>\n",
       "      <td>NaN</td>\n",
       "      <td>NaN</td>\n",
       "      <td>NaN</td>\n",
       "    </tr>\n",
       "    <tr>\n",
       "      <th>...</th>\n",
       "      <td>...</td>\n",
       "      <td>...</td>\n",
       "      <td>...</td>\n",
       "      <td>...</td>\n",
       "    </tr>\n",
       "    <tr>\n",
       "      <th>1936753</th>\n",
       "      <td>25.0</td>\n",
       "      <td>3.0</td>\n",
       "      <td>0.0</td>\n",
       "      <td>22.0</td>\n",
       "    </tr>\n",
       "    <tr>\n",
       "      <th>1936754</th>\n",
       "      <td>75.0</td>\n",
       "      <td>0.0</td>\n",
       "      <td>57.0</td>\n",
       "      <td>0.0</td>\n",
       "    </tr>\n",
       "    <tr>\n",
       "      <th>1936755</th>\n",
       "      <td>99.0</td>\n",
       "      <td>1.0</td>\n",
       "      <td>0.0</td>\n",
       "      <td>79.0</td>\n",
       "    </tr>\n",
       "    <tr>\n",
       "      <th>1936756</th>\n",
       "      <td>9.0</td>\n",
       "      <td>NaN</td>\n",
       "      <td>NaN</td>\n",
       "      <td>NaN</td>\n",
       "    </tr>\n",
       "    <tr>\n",
       "      <th>1936757</th>\n",
       "      <td>-5.0</td>\n",
       "      <td>NaN</td>\n",
       "      <td>NaN</td>\n",
       "      <td>NaN</td>\n",
       "    </tr>\n",
       "  </tbody>\n",
       "</table>\n",
       "<p>1936758 rows × 4 columns</p>\n",
       "</div>"
      ],
      "text/plain": [
       "         ArrDelay  CarrierDelay  WeatherDelay  LateAircraftDelay\n",
       "0           -14.0           NaN           NaN                NaN\n",
       "1             2.0           NaN           NaN                NaN\n",
       "2            14.0           NaN           NaN                NaN\n",
       "3            34.0           2.0           0.0               32.0\n",
       "4            11.0           NaN           NaN                NaN\n",
       "...           ...           ...           ...                ...\n",
       "1936753      25.0           3.0           0.0               22.0\n",
       "1936754      75.0           0.0          57.0                0.0\n",
       "1936755      99.0           1.0           0.0               79.0\n",
       "1936756       9.0           NaN           NaN                NaN\n",
       "1936757      -5.0           NaN           NaN                NaN\n",
       "\n",
       "[1936758 rows x 4 columns]"
      ]
     },
     "execution_count": 103,
     "metadata": {},
     "output_type": "execute_result"
    }
   ],
   "source": [
    "df_regression= df.iloc[:, [15, 25, 26, 29]]\n",
    "df_regression"
   ]
  },
  {
   "cell_type": "code",
   "execution_count": 104,
   "id": "1b9a27c0",
   "metadata": {},
   "outputs": [
    {
     "data": {
      "text/plain": [
       "ArrDelay               8387\n",
       "CarrierDelay         689270\n",
       "WeatherDelay         689270\n",
       "LateAircraftDelay    689270\n",
       "dtype: int64"
      ]
     },
     "execution_count": 104,
     "metadata": {},
     "output_type": "execute_result"
    }
   ],
   "source": [
    "#View which variables have missing values\n",
    "df_regression.isna().sum()"
   ]
  },
  {
   "cell_type": "code",
   "execution_count": 105,
   "id": "410f2c6f",
   "metadata": {
    "scrolled": true
   },
   "outputs": [
    {
     "data": {
      "text/html": [
       "<div>\n",
       "<style scoped>\n",
       "    .dataframe tbody tr th:only-of-type {\n",
       "        vertical-align: middle;\n",
       "    }\n",
       "\n",
       "    .dataframe tbody tr th {\n",
       "        vertical-align: top;\n",
       "    }\n",
       "\n",
       "    .dataframe thead th {\n",
       "        text-align: right;\n",
       "    }\n",
       "</style>\n",
       "<table border=\"1\" class=\"dataframe\">\n",
       "  <thead>\n",
       "    <tr style=\"text-align: right;\">\n",
       "      <th></th>\n",
       "      <th>ArrDelay</th>\n",
       "      <th>CarrierDelay</th>\n",
       "      <th>WeatherDelay</th>\n",
       "      <th>LateAircraftDelay</th>\n",
       "    </tr>\n",
       "  </thead>\n",
       "  <tbody>\n",
       "    <tr>\n",
       "      <th>ArrDelay</th>\n",
       "      <td>1.000000</td>\n",
       "      <td>0.501773</td>\n",
       "      <td>0.264624</td>\n",
       "      <td>0.478123</td>\n",
       "    </tr>\n",
       "    <tr>\n",
       "      <th>CarrierDelay</th>\n",
       "      <td>0.501773</td>\n",
       "      <td>1.000000</td>\n",
       "      <td>-0.068951</td>\n",
       "      <td>-0.178286</td>\n",
       "    </tr>\n",
       "    <tr>\n",
       "      <th>WeatherDelay</th>\n",
       "      <td>0.264624</td>\n",
       "      <td>-0.068951</td>\n",
       "      <td>1.000000</td>\n",
       "      <td>-0.054971</td>\n",
       "    </tr>\n",
       "    <tr>\n",
       "      <th>LateAircraftDelay</th>\n",
       "      <td>0.478123</td>\n",
       "      <td>-0.178286</td>\n",
       "      <td>-0.054971</td>\n",
       "      <td>1.000000</td>\n",
       "    </tr>\n",
       "  </tbody>\n",
       "</table>\n",
       "</div>"
      ],
      "text/plain": [
       "                   ArrDelay  CarrierDelay  WeatherDelay  LateAircraftDelay\n",
       "ArrDelay           1.000000      0.501773      0.264624           0.478123\n",
       "CarrierDelay       0.501773      1.000000     -0.068951          -0.178286\n",
       "WeatherDelay       0.264624     -0.068951      1.000000          -0.054971\n",
       "LateAircraftDelay  0.478123     -0.178286     -0.054971           1.000000"
      ]
     },
     "execution_count": 105,
     "metadata": {},
     "output_type": "execute_result"
    }
   ],
   "source": [
    "#Eliminate cases with missing values of selected variables\n",
    "df_regression.dropna(subset = [\"ArrDelay\",\"CarrierDelay\",\"WeatherDelay\", \"LateAircraftDelay\"], axis = 0, inplace = True)\n",
    "\n",
    "#Correlation between variables of interest\n",
    "corr_matrix = df_regression.corr(method='pearson')\n",
    "corr_matrix\n"
   ]
  },
  {
   "cell_type": "markdown",
   "id": "547d8ec6",
   "metadata": {},
   "source": [
    "ArrDelay is positively correlated with CarrierDelay, WeatherDelay and LateAircraftDelay.\n",
    "The correlations range from .26 to .50."
   ]
  },
  {
   "cell_type": "code",
   "execution_count": 106,
   "id": "c86fde13",
   "metadata": {},
   "outputs": [
    {
     "data": {
      "text/html": [
       "<div>\n",
       "<style scoped>\n",
       "    .dataframe tbody tr th:only-of-type {\n",
       "        vertical-align: middle;\n",
       "    }\n",
       "\n",
       "    .dataframe tbody tr th {\n",
       "        vertical-align: top;\n",
       "    }\n",
       "\n",
       "    .dataframe thead th {\n",
       "        text-align: right;\n",
       "    }\n",
       "</style>\n",
       "<table border=\"1\" class=\"dataframe\">\n",
       "  <thead>\n",
       "    <tr style=\"text-align: right;\">\n",
       "      <th></th>\n",
       "      <th>variables</th>\n",
       "      <th>VIF</th>\n",
       "    </tr>\n",
       "  </thead>\n",
       "  <tbody>\n",
       "    <tr>\n",
       "      <th>0</th>\n",
       "      <td>ArrDelay</td>\n",
       "      <td>1.853</td>\n",
       "    </tr>\n",
       "    <tr>\n",
       "      <th>1</th>\n",
       "      <td>CarrierDelay</td>\n",
       "      <td>1.682</td>\n",
       "    </tr>\n",
       "    <tr>\n",
       "      <th>2</th>\n",
       "      <td>WeatherDelay</td>\n",
       "      <td>1.166</td>\n",
       "    </tr>\n",
       "  </tbody>\n",
       "</table>\n",
       "</div>"
      ],
      "text/plain": [
       "      variables    VIF\n",
       "0      ArrDelay  1.853\n",
       "1  CarrierDelay  1.682\n",
       "2  WeatherDelay  1.166"
      ]
     },
     "execution_count": 106,
     "metadata": {},
     "output_type": "execute_result"
    }
   ],
   "source": [
    "#Calculate VIF of the variables of interest\n",
    "\n",
    "def calc_vif(X):\n",
    "    vif = pd.DataFrame()\n",
    "    vif[\"variables\"] = X.columns\n",
    "    vif[\"VIF\"] = [variance_inflation_factor(X.values, i) for i in range(X.shape[1])]\n",
    "    return(vif)\n",
    "\n",
    "X = df_regression.iloc[:,:-1]\n",
    "\n",
    "round(calc_vif(X),3)"
   ]
  },
  {
   "cell_type": "markdown",
   "id": "f4855733",
   "metadata": {},
   "source": [
    "The VIF values are in the expected range.\n",
    "It is important to remember that a value between 1 and 5 indicates a moderate correlation between the variables in the model.\n",
    "The VIF of the variables do not show high multicollinearity. Values that are not severe enough to require attention."
   ]
  },
  {
   "cell_type": "markdown",
   "id": "727143c5",
   "metadata": {},
   "source": [
    "# Regression model 1: LateAircraftDelay \n",
    "LateAircraftDelay in minutes: Arrival delay at an airport due to the late arrival of the same aircraft at a previous airport. The ripple effect of an earlier delay at downstream airports is referred to as delay propagation.\n"
   ]
  },
  {
   "cell_type": "code",
   "execution_count": 107,
   "id": "4892dddf",
   "metadata": {},
   "outputs": [
    {
     "data": {
      "text/plain": [
       "count    1.247488e+06\n",
       "mean     2.529647e+01\n",
       "std      4.205486e+01\n",
       "min      0.000000e+00\n",
       "25%      0.000000e+00\n",
       "50%      8.000000e+00\n",
       "75%      3.300000e+01\n",
       "max      1.316000e+03\n",
       "Name: LateAircraftDelay, dtype: float64"
      ]
     },
     "execution_count": 107,
     "metadata": {},
     "output_type": "execute_result"
    }
   ],
   "source": [
    "# Description of the variable to be predicted by ArrDelay\n",
    "df.LateAircraftDelay.describe()"
   ]
  },
  {
   "cell_type": "markdown",
   "id": "10f15e85",
   "metadata": {},
   "source": [
    "The following is the dot plot of the variables to be used in the regression model."
   ]
  },
  {
   "cell_type": "code",
   "execution_count": 108,
   "id": "b7f46356",
   "metadata": {},
   "outputs": [
    {
     "data": {
      "image/png": "[encoded data removed]",
      "text/plain": [
       "<Figure size 432x288 with 1 Axes>"
      ]
     },
     "metadata": {
      "needs_background": "light"
     },
     "output_type": "display_data"
    }
   ],
   "source": [
    "df.plot(x='ArrDelay', y='LateAircraftDelay', style='o')\n",
    "plt.title('Model 1') \n",
    "plt.xlabel('ArrDelay') \n",
    "plt.ylabel('LateAircraftDelay') \n",
    "plt.show()"
   ]
  },
  {
   "cell_type": "markdown",
   "id": "a0e80b76",
   "metadata": {},
   "source": [
    "To test the different regression models, the predictor variable and the variable to be predicted will be stored in separate dataframes. "
   ]
  },
  {
   "cell_type": "code",
   "execution_count": 109,
   "id": "7a48ce66",
   "metadata": {},
   "outputs": [
    {
     "data": {
      "text/plain": [
       "ArrDelay               8387\n",
       "LateAircraftDelay    689270\n",
       "dtype: int64"
      ]
     },
     "execution_count": 109,
     "metadata": {},
     "output_type": "execute_result"
    }
   ],
   "source": [
    "Regression_1 = df.iloc[:, [15, 29]]\n",
    "\n",
    "#Identify missing values\n",
    "Regression_1.isnull().sum()"
   ]
  },
  {
   "cell_type": "code",
   "execution_count": 110,
   "id": "f32dd0f3",
   "metadata": {
    "scrolled": false
   },
   "outputs": [
    {
     "data": {
      "text/plain": [
       "ArrDelay             0\n",
       "LateAircraftDelay    0\n",
       "dtype: int64"
      ]
     },
     "execution_count": 110,
     "metadata": {},
     "output_type": "execute_result"
    }
   ],
   "source": [
    "Regression_1.dropna(subset = [\"ArrDelay\", \"LateAircraftDelay\"], axis = 0, inplace = True)\n",
    "\n",
    "Regression_1.isnull().sum()\n"
   ]
  },
  {
   "cell_type": "code",
   "execution_count": 111,
   "id": "2833c83f",
   "metadata": {
    "scrolled": true
   },
   "outputs": [],
   "source": [
    "#Standardization of the variables of interest\n",
    "scaler = StandardScaler()\n",
    "x_test_numericas = scaler.fit_transform(Regression_1)\n",
    "\n",
    "Regression_1 = pd.DataFrame(Regression_1, columns=[\"ArrDelay\", \"LateAircraftDelay\"])"
   ]
  },
  {
   "cell_type": "code",
   "execution_count": 112,
   "id": "77d797a5",
   "metadata": {},
   "outputs": [
    {
     "data": {
      "image/png": "[encoded data removed]",
      "text/plain": [
       "<Figure size 720x504 with 1 Axes>"
      ]
     },
     "metadata": {
      "needs_background": "light"
     },
     "output_type": "display_data"
    }
   ],
   "source": [
    "# Box plot of the transformed variables\n",
    "fig = plt.figure(figsize =(10, 7)) \n",
    "  \n",
    "ax = fig.add_axes([0, 0, 1, 1]) \n",
    "  \n",
    "bp = ax.boxplot(Regression_1) \n",
    "  \n",
    "plt.show() "
   ]
  },
  {
   "cell_type": "code",
   "execution_count": 113,
   "id": "124eb636",
   "metadata": {},
   "outputs": [
    {
     "data": {
      "text/plain": [
       "ArrDelay             0\n",
       "LateAircraftDelay    0\n",
       "dtype: int64"
      ]
     },
     "execution_count": 113,
     "metadata": {},
     "output_type": "execute_result"
    }
   ],
   "source": [
    "#Eliminate outliers of the variables of interest\n",
    "Q1 = Regression_1.quantile (q = .25)\n",
    "Q3 = Regression_1.quantile (q = .75)\n",
    "IQR = Regression_1.apply (stats.iqr)\n",
    "\n",
    "Regression_1_cleaned = Regression_1 [~ ((Regression_1 <(Q1-1.5 * IQR)) | (Regression_1> (Q3 + 1.5 * IQR))). any (axis = 1)]\n",
    "\n",
    "Regression_1_cleaned.isnull().sum()"
   ]
  },
  {
   "cell_type": "code",
   "execution_count": 114,
   "id": "fe89caa4",
   "metadata": {},
   "outputs": [
    {
     "data": {
      "text/html": [
       "<div>\n",
       "<style scoped>\n",
       "    .dataframe tbody tr th:only-of-type {\n",
       "        vertical-align: middle;\n",
       "    }\n",
       "\n",
       "    .dataframe tbody tr th {\n",
       "        vertical-align: top;\n",
       "    }\n",
       "\n",
       "    .dataframe thead th {\n",
       "        text-align: right;\n",
       "    }\n",
       "</style>\n",
       "<table border=\"1\" class=\"dataframe\">\n",
       "  <thead>\n",
       "    <tr style=\"text-align: right;\">\n",
       "      <th></th>\n",
       "      <th>n</th>\n",
       "      <th>r</th>\n",
       "      <th>CI95%</th>\n",
       "      <th>p-val</th>\n",
       "      <th>BF10</th>\n",
       "      <th>power</th>\n",
       "    </tr>\n",
       "  </thead>\n",
       "  <tbody>\n",
       "    <tr>\n",
       "      <th>pearson</th>\n",
       "      <td>1096957</td>\n",
       "      <td>0.199781</td>\n",
       "      <td>[0.2, 0.2]</td>\n",
       "      <td>0.0</td>\n",
       "      <td>inf</td>\n",
       "      <td>1.0</td>\n",
       "    </tr>\n",
       "  </tbody>\n",
       "</table>\n",
       "</div>"
      ],
      "text/plain": [
       "               n         r       CI95%  p-val BF10  power\n",
       "pearson  1096957  0.199781  [0.2, 0.2]    0.0  inf    1.0"
      ]
     },
     "metadata": {},
     "output_type": "display_data"
    }
   ],
   "source": [
    "#Evaluate the correlations between  variables\n",
    "\n",
    "display(pg.corr(Regression_1_cleaned['ArrDelay'], Regression_1_cleaned['LateAircraftDelay'], method='pearson'))"
   ]
  },
  {
   "cell_type": "markdown",
   "id": "a13b4ed6",
   "metadata": {},
   "source": [
    "It is important to remember that the correlation between ArrDelay and LateAircraftDelay with missing values removed is 0.478123.\n",
    "\n",
    "After standardizing the variables, removing outliers and missing values, a correlation of .20 was obtained.\n",
    "We observe that the correlation between the variables decreases, so we could ask ourselves if the data processing between the variables was correct (hypothesizing that we expect the variables to have a positive association).\n"
   ]
  },
  {
   "cell_type": "markdown",
   "id": "f7f054b1",
   "metadata": {
    "code_folding": []
   },
   "source": [
    "###### Regression model with LateAircraftDelay with cleaned data (transformed variables, without outliers and missing values)."
   ]
  },
  {
   "cell_type": "code",
   "execution_count": 115,
   "id": "210b229d",
   "metadata": {},
   "outputs": [
    {
     "data": {
      "image/png": "[encoded data removed]",
      "text/plain": [
       "<Figure size 720x504 with 1 Axes>"
      ]
     },
     "metadata": {
      "needs_background": "light"
     },
     "output_type": "display_data"
    }
   ],
   "source": [
    "fig = plt.figure(figsize =(10, 7)) \n",
    "ax = fig.add_axes([0, 0, 1, 1])   \n",
    "bp = ax.boxplot(Regression_1_cleaned) \n",
    "plt.show() "
   ]
  },
  {
   "cell_type": "code",
   "execution_count": 116,
   "id": "a118446e",
   "metadata": {},
   "outputs": [
    {
     "name": "stdout",
     "output_type": "stream",
     "text": [
      "[42.79207921]\n",
      "[[0.29444715]]\n"
     ]
    }
   ],
   "source": [
    "X = Regression_1_cleaned['LateAircraftDelay'].values.reshape(-1,1)\n",
    "y = Regression_1_cleaned['ArrDelay'].values.reshape(-1,1)\n",
    "\n",
    "X_train, X_test, y_train, y_test = train_test_split(X, y, test_size=0.2, random_state=0)\n",
    "\n",
    "regressor = LinearRegression() \n",
    "regressor.fit(X_train, y_train) \n",
    "\n",
    "#To obtain the intercept:\n",
    "print(regressor.intercept_)\n",
    "\n",
    "#To obtain the slope:\n",
    "print(regressor.coef_)\n",
    "\n",
    "\n"
   ]
  },
  {
   "cell_type": "markdown",
   "id": "e887d71d",
   "metadata": {},
   "source": [
    "The first 25 cases of the dataframe and the values predicted by the model are observed. "
   ]
  },
  {
   "cell_type": "code",
   "execution_count": 117,
   "id": "e9155be7",
   "metadata": {
    "scrolled": true
   },
   "outputs": [
    {
     "data": {
      "image/png": "[encoded data removed]",
      "text/plain": [
       "<Figure size 720x576 with 1 Axes>"
      ]
     },
     "metadata": {
      "needs_background": "light"
     },
     "output_type": "display_data"
    }
   ],
   "source": [
    "y_pred = regressor.predict(X_test)\n",
    "\n",
    "df_cleaned = pd.DataFrame({'Actual': y_test.flatten(), 'Predicted': y_pred.flatten()})\n",
    "df_cleaned = df_cleaned.head(25)\n",
    "\n",
    "df_cleaned.plot(kind='bar',figsize=(10,8))\n",
    "plt.grid(which='major', linestyle='-', linewidth='0.5', color='green')\n",
    "plt.grid(which='minor', linestyle=':', linewidth='0.5', color='black')\n",
    "plt.show()"
   ]
  },
  {
   "cell_type": "markdown",
   "id": "e2a0e278",
   "metadata": {},
   "source": [
    "##### Next, we will evaluate the same model tested previously, but only with the transformed data (without taking outliers)."
   ]
  },
  {
   "cell_type": "code",
   "execution_count": 118,
   "id": "ebead82d",
   "metadata": {
    "scrolled": true
   },
   "outputs": [
    {
     "data": {
      "image/png": "[encoded data removed]",
      "text/plain": [
       "<Figure size 720x576 with 1 Axes>"
      ]
     },
     "metadata": {
      "needs_background": "light"
     },
     "output_type": "display_data"
    }
   ],
   "source": [
    "Xb = Regression_1['LateAircraftDelay'].values.reshape(-1,1)\n",
    "yb = Regression_1['ArrDelay'].values.reshape(-1,1)\n",
    "\n",
    "X_trainb, X_testb, y_trainb, y_testb = train_test_split(Xb, yb, test_size=0.2, random_state=0)\n",
    "\n",
    "regressor = LinearRegression() \n",
    "regressor.fit(X_trainb, y_trainb) #Entrena el algoritmo \n",
    "\n",
    "y_predb = regressor.predict(X_testb)\n",
    "\n",
    "df1_transformados = pd.DataFrame({'Actual': y_testb.flatten(), 'Predicted': y_predb.flatten()})\n",
    "df1_transformados = df1_transformados.head(25)\n",
    "\n",
    "df1_transformados.plot(kind='bar',figsize=(10,8))\n",
    "plt.grid(which='major', linestyle='-', linewidth='0.5', color='green')\n",
    "plt.grid(which='minor', linestyle=':', linewidth='0.5', color='black')\n",
    "plt.show()"
   ]
  },
  {
   "cell_type": "code",
   "execution_count": 119,
   "id": "f92c09ed",
   "metadata": {},
   "outputs": [
    {
     "data": {
      "text/html": [
       "<div>\n",
       "<style scoped>\n",
       "    .dataframe tbody tr th:only-of-type {\n",
       "        vertical-align: middle;\n",
       "    }\n",
       "\n",
       "    .dataframe tbody tr th {\n",
       "        vertical-align: top;\n",
       "    }\n",
       "\n",
       "    .dataframe thead th {\n",
       "        text-align: right;\n",
       "    }\n",
       "</style>\n",
       "<table border=\"1\" class=\"dataframe\">\n",
       "  <thead>\n",
       "    <tr style=\"text-align: right;\">\n",
       "      <th></th>\n",
       "      <th>n</th>\n",
       "      <th>r</th>\n",
       "      <th>CI95%</th>\n",
       "      <th>p-val</th>\n",
       "      <th>BF10</th>\n",
       "      <th>power</th>\n",
       "    </tr>\n",
       "  </thead>\n",
       "  <tbody>\n",
       "    <tr>\n",
       "      <th>pearson</th>\n",
       "      <td>1247488</td>\n",
       "      <td>0.478123</td>\n",
       "      <td>[0.48, 0.48]</td>\n",
       "      <td>0.0</td>\n",
       "      <td>inf</td>\n",
       "      <td>1.0</td>\n",
       "    </tr>\n",
       "  </tbody>\n",
       "</table>\n",
       "</div>"
      ],
      "text/plain": [
       "               n         r         CI95%  p-val BF10  power\n",
       "pearson  1247488  0.478123  [0.48, 0.48]    0.0  inf    1.0"
      ]
     },
     "metadata": {},
     "output_type": "display_data"
    }
   ],
   "source": [
    "display(pg.corr(Regression_1['ArrDelay'], Regression_1['LateAircraftDelay'], method='pearson'))"
   ]
  },
  {
   "cell_type": "markdown",
   "id": "4d2792df",
   "metadata": {},
   "source": [
    "##### Modelo 2: WeatherDelay \n",
    "\n",
    "WeatherDelay in minutes: Weather delay is caused by extreme or hazardous weather conditions that are forecasted or manifest themselves on point of departure, enroute, or on point of arrival"
   ]
  },
  {
   "cell_type": "code",
   "execution_count": 120,
   "id": "b86e09ef",
   "metadata": {},
   "outputs": [
    {
     "data": {
      "text/plain": [
       "count    1.247488e+06\n",
       "mean     3.703571e+00\n",
       "std      2.149290e+01\n",
       "min      0.000000e+00\n",
       "25%      0.000000e+00\n",
       "50%      0.000000e+00\n",
       "75%      0.000000e+00\n",
       "max      1.352000e+03\n",
       "Name: WeatherDelay, dtype: float64"
      ]
     },
     "execution_count": 120,
     "metadata": {},
     "output_type": "execute_result"
    }
   ],
   "source": [
    "#Description of the variable that will predict ArrDelay\n",
    "df.WeatherDelay.describe()"
   ]
  },
  {
   "cell_type": "code",
   "execution_count": 121,
   "id": "1a03d23f",
   "metadata": {},
   "outputs": [
    {
     "data": {
      "image/png": "[encoded data removed]",
      "text/plain": [
       "<Figure size 432x288 with 1 Axes>"
      ]
     },
     "metadata": {
      "needs_background": "light"
     },
     "output_type": "display_data"
    }
   ],
   "source": [
    "df.plot(x='ArrDelay', y='WeatherDelay', style='o')\n",
    "plt.title('MinTemp vs MaxTemp') \n",
    "plt.xlabel('LateAircraftDelay') \n",
    "plt.ylabel('ArrDelay') \n",
    "plt.show()"
   ]
  },
  {
   "cell_type": "code",
   "execution_count": 122,
   "id": "5f549b43",
   "metadata": {},
   "outputs": [
    {
     "data": {
      "text/plain": [
       "ArrDelay          8387\n",
       "WeatherDelay    689270\n",
       "dtype: int64"
      ]
     },
     "execution_count": 122,
     "metadata": {},
     "output_type": "execute_result"
    }
   ],
   "source": [
    "Regresion_2= df.iloc[:, [15, 26]]\n",
    "\n",
    "#Identify missing values\n",
    "Regresion_2.isnull().sum()"
   ]
  },
  {
   "cell_type": "code",
   "execution_count": 123,
   "id": "a2dfdf37",
   "metadata": {},
   "outputs": [
    {
     "data": {
      "text/plain": [
       "ArrDelay        0\n",
       "WeatherDelay    0\n",
       "dtype: int64"
      ]
     },
     "execution_count": 123,
     "metadata": {},
     "output_type": "execute_result"
    }
   ],
   "source": [
    "Regresion_2.dropna(subset = [\"ArrDelay\", \"WeatherDelay\"], axis = 0, inplace = True)\n",
    "\n",
    "Regresion_2.isnull().sum()"
   ]
  },
  {
   "cell_type": "code",
   "execution_count": 124,
   "id": "2b51ff78",
   "metadata": {},
   "outputs": [],
   "source": [
    "#Standardization of the variables of interest\n",
    "scaler = StandardScaler()\n",
    "x_test_numericas = scaler.fit_transform(Regresion_2)\n",
    "Regresion_2_depurada = pd.DataFrame(Regresion_2, columns=[\"ArrDelay\", \"WeatherDelay\"])"
   ]
  },
  {
   "cell_type": "code",
   "execution_count": 125,
   "id": "4fc4c37e",
   "metadata": {},
   "outputs": [
    {
     "name": "stdout",
     "output_type": "stream",
     "text": [
      "[60.55645828]\n",
      "[[0.74848602]]\n"
     ]
    }
   ],
   "source": [
    "\n",
    "X2 = Regresion_2_depurada['WeatherDelay'].values.reshape(-1,1)\n",
    "y2 = Regresion_2_depurada['ArrDelay'].values.reshape(-1,1)\n",
    "\n",
    "X_train2, X_test2, y_train2, y_test2 = train_test_split(X2, y2, test_size=0.2, random_state=0)\n",
    "\n",
    "\n",
    "regressor = LinearRegression() \n",
    "regressor.fit(X_train2, y_train2)\n",
    "\n",
    "print(regressor.intercept_)\n",
    "print(regressor.coef_)"
   ]
  },
  {
   "cell_type": "code",
   "execution_count": 126,
   "id": "d24bc3e4",
   "metadata": {},
   "outputs": [
    {
     "data": {
      "text/html": [
       "<div>\n",
       "<style scoped>\n",
       "    .dataframe tbody tr th:only-of-type {\n",
       "        vertical-align: middle;\n",
       "    }\n",
       "\n",
       "    .dataframe tbody tr th {\n",
       "        vertical-align: top;\n",
       "    }\n",
       "\n",
       "    .dataframe thead th {\n",
       "        text-align: right;\n",
       "    }\n",
       "</style>\n",
       "<table border=\"1\" class=\"dataframe\">\n",
       "  <thead>\n",
       "    <tr style=\"text-align: right;\">\n",
       "      <th></th>\n",
       "      <th>n</th>\n",
       "      <th>r</th>\n",
       "      <th>CI95%</th>\n",
       "      <th>p-val</th>\n",
       "      <th>BF10</th>\n",
       "      <th>power</th>\n",
       "    </tr>\n",
       "  </thead>\n",
       "  <tbody>\n",
       "    <tr>\n",
       "      <th>pearson</th>\n",
       "      <td>1247488</td>\n",
       "      <td>0.264624</td>\n",
       "      <td>[0.26, 0.27]</td>\n",
       "      <td>0.0</td>\n",
       "      <td>inf</td>\n",
       "      <td>1.0</td>\n",
       "    </tr>\n",
       "  </tbody>\n",
       "</table>\n",
       "</div>"
      ],
      "text/plain": [
       "               n         r         CI95%  p-val BF10  power\n",
       "pearson  1247488  0.264624  [0.26, 0.27]    0.0  inf    1.0"
      ]
     },
     "metadata": {},
     "output_type": "display_data"
    }
   ],
   "source": [
    "display(pg.corr(Regresion_2_depurada['ArrDelay'], Regresion_2_depurada['WeatherDelay'], method='pearson'))"
   ]
  },
  {
   "cell_type": "code",
   "execution_count": 127,
   "id": "c13303c4",
   "metadata": {},
   "outputs": [
    {
     "data": {
      "image/png": "[encoded data removed]",
      "text/plain": [
       "<Figure size 720x576 with 1 Axes>"
      ]
     },
     "metadata": {
      "needs_background": "light"
     },
     "output_type": "display_data"
    }
   ],
   "source": [
    "y_pred2 = regressor.predict(X_test2)\n",
    "\n",
    "df_cleaned2 = pd.DataFrame({'Actual': y_test2.flatten(), 'Predicted': y_pred2.flatten()})\n",
    "df_cleaned2 = df_cleaned2.head(25)\n",
    "df_cleaned2.plot(kind='bar',figsize=(10,8))\n",
    "plt.grid(which='major', linestyle='-', linewidth='0.5', color='green')\n",
    "plt.grid(which='minor', linestyle=':', linewidth='0.5', color='black')\n",
    "plt.show()"
   ]
  },
  {
   "cell_type": "markdown",
   "id": "ca062071",
   "metadata": {},
   "source": [
    "##### Modelo 3: CarrierDelay \n",
    "CarrierDelay in minutes: Carrier delay is within the control of the air carrier. Examples of occurrences that may determine carrier delay are: aircraft cleaning, aircraft damage, awaiting the arrival of connecting passengers or crew, baggage, bird strike, cargo loading, catering, computer, outage-carrier equipment, crew legality (pilot or attendant rest), damage by hazardous goods, engineering inspection, fueling, handling disabled passengers, late crew, lavatory servicing, maintenance, oversales, potable water servicing, removal of unruly passenger, slow boarding or seating, stowing carry-on baggage, weight and balance delays."
   ]
  },
  {
   "cell_type": "code",
   "execution_count": 128,
   "id": "7bd4089a",
   "metadata": {},
   "outputs": [
    {
     "data": {
      "text/plain": [
       "count    1.247488e+06\n",
       "mean     1.917940e+01\n",
       "std      4.354621e+01\n",
       "min      0.000000e+00\n",
       "25%      0.000000e+00\n",
       "50%      2.000000e+00\n",
       "75%      2.100000e+01\n",
       "max      2.436000e+03\n",
       "Name: CarrierDelay, dtype: float64"
      ]
     },
     "execution_count": 128,
     "metadata": {},
     "output_type": "execute_result"
    }
   ],
   "source": [
    "#Descripción de la variable que va a predecir a ArrDelay\n",
    "df.CarrierDelay.describe()"
   ]
  },
  {
   "cell_type": "code",
   "execution_count": 129,
   "id": "c07867f6",
   "metadata": {},
   "outputs": [
    {
     "data": {
      "image/png": "[encoded data removed]",
      "text/plain": [
       "<Figure size 432x288 with 1 Axes>"
      ]
     },
     "metadata": {
      "needs_background": "light"
     },
     "output_type": "display_data"
    }
   ],
   "source": [
    "df.plot(x='ArrDelay', y='CarrierDelay', style='o')\n",
    "plt.title('MinTemp vs MaxTemp') \n",
    "plt.xlabel('LateAircraftDelay') \n",
    "plt.ylabel('ArrDelay') \n",
    "plt.show()"
   ]
  },
  {
   "cell_type": "code",
   "execution_count": 130,
   "id": "72277e45",
   "metadata": {},
   "outputs": [
    {
     "data": {
      "text/plain": [
       "ArrDelay          8387\n",
       "CarrierDelay    689270\n",
       "dtype: int64"
      ]
     },
     "execution_count": 130,
     "metadata": {},
     "output_type": "execute_result"
    }
   ],
   "source": [
    "Regresion_3= df.iloc[:, [15, 25]]\n",
    "\n",
    "#Identify missing values\n",
    "\n",
    "Regresion_3.isnull().sum()"
   ]
  },
  {
   "cell_type": "code",
   "execution_count": 131,
   "id": "9a369d69",
   "metadata": {},
   "outputs": [
    {
     "data": {
      "text/plain": [
       "ArrDelay        0\n",
       "CarrierDelay    0\n",
       "dtype: int64"
      ]
     },
     "execution_count": 131,
     "metadata": {},
     "output_type": "execute_result"
    }
   ],
   "source": [
    "Regresion_3.dropna(subset = [\"ArrDelay\", \"CarrierDelay\"], axis = 0, inplace = True)\n",
    "\n",
    "Regresion_3.isnull().sum()"
   ]
  },
  {
   "cell_type": "code",
   "execution_count": 132,
   "id": "c19811db",
   "metadata": {},
   "outputs": [],
   "source": [
    "#Standardization of variables of interest\n",
    "scaler = StandardScaler()\n",
    "x_test_numericas = scaler.fit_transform(Regresion_3)\n",
    "Regresion_3_depurada = pd.DataFrame(Regresion_3, columns=[\"ArrDelay\", \"CarrierDelay\"])\n"
   ]
  },
  {
   "cell_type": "code",
   "execution_count": 133,
   "id": "fdc3eccc",
   "metadata": {},
   "outputs": [
    {
     "data": {
      "text/html": [
       "<div>\n",
       "<style scoped>\n",
       "    .dataframe tbody tr th:only-of-type {\n",
       "        vertical-align: middle;\n",
       "    }\n",
       "\n",
       "    .dataframe tbody tr th {\n",
       "        vertical-align: top;\n",
       "    }\n",
       "\n",
       "    .dataframe thead th {\n",
       "        text-align: right;\n",
       "    }\n",
       "</style>\n",
       "<table border=\"1\" class=\"dataframe\">\n",
       "  <thead>\n",
       "    <tr style=\"text-align: right;\">\n",
       "      <th></th>\n",
       "      <th>n</th>\n",
       "      <th>r</th>\n",
       "      <th>CI95%</th>\n",
       "      <th>p-val</th>\n",
       "      <th>BF10</th>\n",
       "      <th>power</th>\n",
       "    </tr>\n",
       "  </thead>\n",
       "  <tbody>\n",
       "    <tr>\n",
       "      <th>pearson</th>\n",
       "      <td>1247488</td>\n",
       "      <td>0.501773</td>\n",
       "      <td>[0.5, 0.5]</td>\n",
       "      <td>0.0</td>\n",
       "      <td>inf</td>\n",
       "      <td>1.0</td>\n",
       "    </tr>\n",
       "  </tbody>\n",
       "</table>\n",
       "</div>"
      ],
      "text/plain": [
       "               n         r       CI95%  p-val BF10  power\n",
       "pearson  1247488  0.501773  [0.5, 0.5]    0.0  inf    1.0"
      ]
     },
     "metadata": {},
     "output_type": "display_data"
    }
   ],
   "source": [
    "display(pg.corr(Regresion_3_depurada['ArrDelay'], Regresion_3_depurada['CarrierDelay'], method='pearson'))"
   ]
  },
  {
   "cell_type": "code",
   "execution_count": 134,
   "id": "2f63f3a1",
   "metadata": {
    "scrolled": true
   },
   "outputs": [
    {
     "name": "stdout",
     "output_type": "stream",
     "text": [
      "[49.83432617]\n",
      "[[0.70251205]]\n"
     ]
    }
   ],
   "source": [
    "X3 = Regresion_3_depurada['CarrierDelay'].values.reshape(-1,1)\n",
    "y3 = Regresion_3_depurada['ArrDelay'].values.reshape(-1,1)\n",
    "\n",
    "X_train3, X_test3, y_train3, y_test3 = train_test_split(X3, y3, test_size=0.2, random_state=0)\n",
    "\n",
    "regressor = LinearRegression() \n",
    "regressor.fit(X_train3, y_train3)\n",
    "\n",
    "print(regressor.intercept_)\n",
    "print(regressor.coef_)"
   ]
  },
  {
   "cell_type": "code",
   "execution_count": 137,
   "id": "83bf28a2",
   "metadata": {},
   "outputs": [
    {
     "data": {
      "image/png": "[encoded data removed]",
      "text/plain": [
       "<Figure size 720x576 with 1 Axes>"
      ]
     },
     "metadata": {
      "needs_background": "light"
     },
     "output_type": "display_data"
    }
   ],
   "source": [
    "y_pred3 = regressor.predict(X_test3)\n",
    "df_cleaned3 = pd.DataFrame({'Actual': y_test3.flatten(), 'Predicted': y_pred3.flatten()})\n",
    "df_cleaned3 = df_cleaned3.head(25)\n",
    "\n",
    "df_cleaned3.plot(kind='bar',figsize=(10,8))\n",
    "plt.grid(which='major', linestyle='-', linewidth='0.5', color='green')\n",
    "plt.grid(which='minor', linestyle=':', linewidth='0.5', color='black')\n",
    "plt.show()\n"
   ]
  },
  {
   "cell_type": "markdown",
   "id": "9bb53b39",
   "metadata": {},
   "source": [
    "## Comparison of the models "
   ]
  },
  {
   "cell_type": "code",
   "execution_count": 138,
   "id": "73fc12ec",
   "metadata": {},
   "outputs": [
    {
     "name": "stdout",
     "output_type": "stream",
     "text": [
      "Model 1, with transformed data, no outliers and no missing values.: \n",
      "Mean Absolute Error (MAE): 22.54967064971508\n",
      "Mean Squared Error (MSE): 885.5733523346388\n",
      "Root Mean Squared Error (RMSE): 29.758584514970444\n"
     ]
    }
   ],
   "source": [
    "print('Model 1, with transformed data, no outliers and no missing values.: ')\n",
    "print('Mean Absolute Error (MAE):', metrics.mean_absolute_error(y_test, y_pred)) \n",
    "print('Mean Squared Error (MSE):', metrics.mean_squared_error(y_test, y_pred)) \n",
    "print('Root Mean Squared Error (RMSE):', np.sqrt(metrics.mean_squared_error(y_test, y_pred)))\n"
   ]
  },
  {
   "cell_type": "code",
   "execution_count": 139,
   "id": "f5d9742e",
   "metadata": {},
   "outputs": [
    {
     "name": "stdout",
     "output_type": "stream",
     "text": [
      "Model 1, with transformed data only: \n",
      "Mean Absolute Error (MAE): 32.54120971683851\n",
      "Mean Squared Error (MSE): 2794.893970875785\n",
      "Root Mean Squared Error (RMSE): 52.866756765246954\n"
     ]
    }
   ],
   "source": [
    "print('Model 1, with transformed data only: ')\n",
    "print('Mean Absolute Error (MAE):', metrics.mean_absolute_error(y_testb, y_predb)) \n",
    "print('Mean Squared Error (MSE):', metrics.mean_squared_error(y_testb, y_predb)) \n",
    "print('Root Mean Squared Error (RMSE):', np.sqrt(metrics.mean_squared_error(y_testb, y_predb)))"
   ]
  },
  {
   "cell_type": "code",
   "execution_count": 140,
   "id": "e2a8d856",
   "metadata": {},
   "outputs": [
    {
     "name": "stdout",
     "output_type": "stream",
     "text": [
      "Model 2, with transformed data only: \n",
      "Mean Absolute Error (MAE): 38.6130660744094\n",
      "Mean Squared Error (MSE): 3364.3115498354628\n",
      "Root Mean Squared Error (RMSE): 58.00268571226218\n"
     ]
    }
   ],
   "source": [
    "print('Model 2, with transformed data only: ')\n",
    "print('Mean Absolute Error (MAE):', metrics.mean_absolute_error(y_test2, y_pred2)) \n",
    "print('Mean Squared Error (MSE):', metrics.mean_squared_error(y_test2, y_pred2)) \n",
    "print('Root Mean Squared Error (RMSE):', np.sqrt(metrics.mean_squared_error(y_test2, y_pred2)))"
   ]
  },
  {
   "cell_type": "code",
   "execution_count": 141,
   "id": "f88ad462",
   "metadata": {},
   "outputs": [
    {
     "name": "stdout",
     "output_type": "stream",
     "text": [
      "Model 3, with transformed data only: \n",
      "Mean Absolute Error (MAE): 35.74823627491166\n",
      "Mean Squared Error (MSE): 2751.5136898586247\n",
      "Root Mean Squared Error (RMSE): 52.45487288954788\n"
     ]
    }
   ],
   "source": [
    "print('Model 3, with transformed data only: ')\n",
    "print('Mean Absolute Error (MAE):', metrics.mean_absolute_error(y_test3, y_pred3)) \n",
    "print('Mean Squared Error (MSE):', metrics.mean_squared_error(y_test3, y_pred3)) \n",
    "print('Root Mean Squared Error (RMSE):', np.sqrt(metrics.mean_squared_error(y_test3, y_pred3)))"
   ]
  },
  {
   "cell_type": "markdown",
   "id": "d823738a",
   "metadata": {},
   "source": [
    "When comparing the models it is observed that the model \"Model 1, with transformed data, no outliers and no missing values\" reports:\n",
    "- lower MAE compared to the rest of the models. This suggests that the model could be a suitable predictor for the results. Increasing MAE size indicates that the model might have problems in some area.\n",
    "- lowest MSE of all the models. This indicates that it is the model with the lowest associated error.\n",
    "- lowest RMSE\n",
    "In sum, it could be inferred that the model with the transformed data, with no outliers and no missing values, is the one with the best fit indices. This highlights the importance of performing adequate data processing prior to data analysis."
   ]
  },
  {
   "cell_type": "markdown",
   "id": "314d3227",
   "metadata": {},
   "source": [
    "### Recommended web pages\n",
    "https://statologos.com/remove-outliers-python/\n",
    "\n",
    "https://www.datasource.ai/es/data-science-articles/una-guia-para-principiantes-sobre-la-regresion-lineal-en-python-con-scikit-learn\n",
    "\n",
    "https://www.oreilly.com/library/view/hands-on-machine-learning/9781491962282/ch04.html#polynomial_regression_model_predictions"
   ]
  },
  {
   "cell_type": "markdown",
   "id": "365319a1",
   "metadata": {},
   "source": [
    "\n",
    "\n"
   ]
  }
 ],
 "metadata": {
  "kernelspec": {
   "display_name": "Python 3 (ipykernel)",
   "language": "python",
   "name": "python3"
  },
  "language_info": {
   "codemirror_mode": {
    "name": "ipython",
    "version": 3
   },
   "file_extension": ".py",
   "mimetype": "text/x-python",
   "name": "python",
   "nbconvert_exporter": "python",
   "pygments_lexer": "ipython3",
   "version": "3.9.7"
  },
  "toc": {
   "base_numbering": 1,
   "nav_menu": {},
   "number_sections": true,
   "sideBar": true,
   "skip_h1_title": false,
   "title_cell": "Table of Contents",
   "title_sidebar": "Contents",
   "toc_cell": false,
   "toc_position": {},
   "toc_section_display": true,
   "toc_window_display": false
  }
 },
 "nbformat": 4,
 "nbformat_minor": 5
}
